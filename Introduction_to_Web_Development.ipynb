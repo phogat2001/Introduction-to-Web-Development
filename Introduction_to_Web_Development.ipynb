{
  "nbformat": 4,
  "nbformat_minor": 0,
  "metadata": {
    "colab": {
      "provenance": []
    },
    "kernelspec": {
      "name": "python3",
      "display_name": "Python 3"
    },
    "language_info": {
      "name": "python"
    }
  },
  "cells": [
    {
      "cell_type": "markdown",
      "source": [
        "# Introduction to Web Development"
      ],
      "metadata": {
        "id": "3PG1aEhZbakE"
      }
    },
    {
      "cell_type": "markdown",
      "source": [
        "1. Explain the main components of client-server architecture and their functions.\n",
        "- Main components of client server architecture- the client and the server.\n",
        "\n",
        "  Client-Client is the user interface that intiate requests services from the server.\n",
        "\n",
        "  Server-server is the system which provides resources to clients.\n",
        "\n",
        "2. Discuss the various career paths available after completing a web development course\n",
        "\n",
        "- Front-End Developer: Focuses on user interface and visual aspects.\n",
        "\n",
        "  Back-End Developer: Manages server-side logic, databases, and application integration.\n",
        "\n",
        " Full-Stack Developer: Skilled in both front-end and back-end development\n",
        " .\n",
        "\n",
        " Web Designer: Specializes in design and layout of websites.\n",
        "\n",
        " Web Administrator: Manages web servers and ensures website performance and security.\n",
        "3. Describe the role of a web browser's developer tools in web development.\n",
        "\n",
        "- Browsers like Chrome and Firefox with built-in developer tools.\n",
        "  Allow inspection of HTML/CSS, debugging of JavaScript.\n",
        "  Monitor network requests and analyze performance.\n",
        "\n",
        "4.  What are the advantages of using a Version Control System like Git in a development project?\n",
        "- version control system like Git in a development project is used to Tracks changes to files over time.Enables collaboration among multiple developers.\n",
        "Provides features like branching, merging, version history.\n",
        "Ensures efficient management of changes.\n",
        "\n",
        "5. Compare and contrast a text editor and an IDE, highlighting their key features and uses.\n",
        "- Text Editor: Simple tool for writing code (e.g., Notepad++, Sublime Text).\n",
        "\n",
        " IDE: Robust environment with features like debugging, version control, project management (e.g., Visual Studio Code, IntelliJ IDEA)."
      ],
      "metadata": {
        "id": "dnhjpi5vcG8C"
      }
    },
    {
      "cell_type": "markdown",
      "source": [],
      "metadata": {
        "id": "_iOPYG_9YN9T"
      }
    },
    {
      "cell_type": "markdown",
      "source": [],
      "metadata": {
        "id": "g4LLvtrEYC_7"
      }
    },
    {
      "cell_type": "code",
      "execution_count": null,
      "metadata": {
        "id": "vGuRpJMZa0as"
      },
      "outputs": [],
      "source": []
    }
  ]
}